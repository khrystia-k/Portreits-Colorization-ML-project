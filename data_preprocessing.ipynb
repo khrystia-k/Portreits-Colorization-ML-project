{
  "cells": [
    {
      "cell_type": "code",
      "execution_count": null,
      "metadata": {
        "colab": {
          "base_uri": "https://localhost:8080/"
        },
        "id": "Ixq1PbVjRIea",
        "outputId": "2ea3ac80-9bce-41d7-90be-d8f7238e7a12"
      },
      "outputs": [
        {
          "output_type": "stream",
          "name": "stdout",
          "text": [
            "Mounted at /content/drive\n"
          ]
        }
      ],
      "source": [
        "from google.colab import drive\n",
        "drive.mount('/content/drive', force_remount=True)"
      ]
    },
    {
      "cell_type": "markdown",
      "source": [
        "Line to unzip file"
      ],
      "metadata": {
        "id": "POdhK5lEj74W"
      }
    },
    {
      "cell_type": "code",
      "execution_count": null,
      "metadata": {
        "id": "sq9MDF0YRWLO"
      },
      "outputs": [],
      "source": [
        "# !unzip \"/content/drive/MyDrive/ML_project/celeba25k.zip\" -d '/content/drive/My Drive/ML_project/celeba25k'"
      ]
    },
    {
      "cell_type": "code",
      "execution_count": null,
      "metadata": {
        "id": "nMVQFEdUNbX7"
      },
      "outputs": [],
      "source": [
        "import numpy as np\n",
        "import cv2\n",
        "import os\n",
        "\n",
        "from keras.preprocessing.image import ImageDataGenerator, array_to_img, img_to_array, load_img\n",
        "from skimage.color import lab2rgb, rgb2lab, rgb2gray"
      ]
    },
    {
      "cell_type": "markdown",
      "source": [
        "Generating dataset in Lab color space with size of images 256*256\n"
      ],
      "metadata": {
        "id": "N3TUUMUqjcYU"
      }
    },
    {
      "cell_type": "code",
      "execution_count": null,
      "metadata": {
        "id": "8Y_WWBjRNOf9"
      },
      "outputs": [],
      "source": [
        "# folder_path = '/content/drive/My Drive/ML_project/celeba25k/celeba25k'\n",
        "\n",
        "# L_portret = np.empty((20000,256,256,1),'float32')\n",
        "# ab_portret = np.empty((20000,256,256,2), 'float32')\n",
        "# i = 0\n",
        "\n",
        "# for filename in os.listdir(folder_path):\n",
        "#     if i == 14000:\n",
        "#         break\n",
        "#     print(i)\n",
        "\n",
        "#     image_path = os.path.join(folder_path, filename)\n",
        "\n",
        "#     image = cv2.imread(image_path)\n",
        "#     image = cv2.cvtColor(image, cv2.COLOR_BGR2RGB)\n",
        "\n",
        "#     # photo resizing\n",
        "#     upper = (image.shape[0] - image.shape[1])//2\n",
        "#     new_height = image.shape[1]\n",
        "#     image = image[upper: upper + new_height, :]\n",
        "\n",
        "#     # photo scaling\n",
        "#     image = cv2.resize(image, (256, 256))\n",
        "\n",
        "#     # splitting photo into L, a, and b channels\n",
        "\n",
        "#     lab = rgb2lab((1.0/255)*image)\n",
        "#     L_portret[i] = (lab[:,:,0]).reshape(256,256,1)\n",
        "#     ab_portret[i] = (lab[:,:,1:]).reshape(256,256,2)\n",
        "\n",
        "#     i +=1\n",
        "\n"
      ]
    },
    {
      "cell_type": "markdown",
      "source": [
        "Generating dataset in RGB dataset with size of images 128*128"
      ],
      "metadata": {
        "id": "AXdVQCAejoNU"
      }
    },
    {
      "cell_type": "code",
      "source": [
        "folder_path = '/content/drive/My Drive/ML_project/celeba25k/celeba25k'\n",
        "\n",
        "color = np.empty((20000,128,128,3),'float32')\n",
        "gray = np.empty((20000,128,128,1), 'float32')\n",
        "i = 0\n",
        "\n",
        "for filename in os.listdir(folder_path):\n",
        "    if i == 4:\n",
        "        break\n",
        "    print(i)\n",
        "\n",
        "    image_path = os.path.join(folder_path, filename)\n",
        "\n",
        "    image = cv2.imread(image_path)\n",
        "    image = cv2.cvtColor(image, cv2.COLOR_BGR2RGB)\n",
        "\n",
        "\n",
        "    # photo scaling\n",
        "    image = cv2.resize(image, (128, 128))\n",
        "\n",
        "    # splitting photo into  channels\n",
        "    image = image / 255.0\n",
        "    color[i] = image\n",
        "    gray[i] = rgb2gray(image).reshape(128, 128, 1)\n",
        "\n",
        "    i +=1"
      ],
      "metadata": {
        "id": "7x0K8-oAoFqr"
      },
      "execution_count": null,
      "outputs": []
    },
    {
      "cell_type": "code",
      "source": [
        "image.shape"
      ],
      "metadata": {
        "colab": {
          "base_uri": "https://localhost:8080/"
        },
        "id": "uXyFTq4ULrvd",
        "outputId": "0cc0bb4e-21e9-4b9f-b4d5-aa63f8467aa9"
      },
      "execution_count": null,
      "outputs": [
        {
          "output_type": "execute_result",
          "data": {
            "text/plain": [
              "(128, 128, 3)"
            ]
          },
          "metadata": {},
          "execution_count": 8
        }
      ]
    },
    {
      "cell_type": "markdown",
      "source": [
        "Save array as .npy files in current session"
      ],
      "metadata": {
        "id": "QY_UnM0zjwhm"
      }
    },
    {
      "cell_type": "code",
      "execution_count": null,
      "metadata": {
        "id": "AVGbrMchNYRe"
      },
      "outputs": [],
      "source": [
        "np.save(\"color_20000.npy\", color)\n",
        "np.save(\"gray_2000.npy\", gray)"
      ]
    },
    {
      "cell_type": "markdown",
      "source": [
        "Save file to drive"
      ],
      "metadata": {
        "id": "JgzI7HMK2VZ5"
      }
    },
    {
      "cell_type": "code",
      "execution_count": null,
      "metadata": {
        "id": "IMPt-zx6Bbti"
      },
      "outputs": [],
      "source": [
        "!cp color_20000.npy /content/drive/MyDrive/ML_project/"
      ]
    },
    {
      "cell_type": "code",
      "execution_count": null,
      "metadata": {
        "id": "VFkhMnqzC7u0"
      },
      "outputs": [],
      "source": [
        "!cp gray_2000.npy /content/drive/MyDrive/ML_project/"
      ]
    }
  ],
  "metadata": {
    "colab": {
      "provenance": []
    },
    "kernelspec": {
      "display_name": "Python 3",
      "name": "python3"
    },
    "language_info": {
      "name": "python"
    }
  },
  "nbformat": 4,
  "nbformat_minor": 0
}
